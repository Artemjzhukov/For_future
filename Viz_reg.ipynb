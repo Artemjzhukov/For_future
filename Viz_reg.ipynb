data=data.replace(" ", np.nan)
data = data.replace('?', np.nan)
data = data.dropna()
